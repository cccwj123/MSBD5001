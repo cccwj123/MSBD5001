{
 "cells": [
  {
   "cell_type": "markdown",
   "metadata": {},
   "source": [
    "# 1. Load Data"
   ]
  },
  {
   "cell_type": "code",
   "execution_count": 1,
   "metadata": {},
   "outputs": [],
   "source": [
    "import pandas as pd\n",
    "from functools import reduce\n",
    "import seaborn as sns\n",
    "import numpy as np\n",
    "from sklearn.preprocessing import MinMaxScaler\n",
    "from sklearn.preprocessing import StandardScaler\n",
    "from matplotlib import pyplot as plt\n",
    "from sklearn.model_selection import cross_val_score, GridSearchCV\n",
    "from sklearn.metrics import make_scorer\n",
    "from sklearn.ensemble import AdaBoostRegressor\n",
    "from sklearn.ensemble import RandomForestRegressor\n",
    "from sklearn.preprocessing import MinMaxScaler\n",
    "from sklearn.linear_model import LinearRegression\n",
    "from sklearn.tree import DecisionTreeRegressor\n",
    "from sklearn.model_selection import train_test_split\n",
    "from sklearn.model_selection import KFold"
   ]
  },
  {
   "cell_type": "code",
   "execution_count": 2,
   "metadata": {},
   "outputs": [],
   "source": [
    "# for processing dummy variable on ['genres', 'categories', 'tags']\n",
    "def get_dummies(df, cols):\n",
    "    dum_cols = []\n",
    "    for col in cols: \n",
    "        dummy = df[col].str.get_dummies(sep=',')\n",
    "        column_name_map = {i: col + '_' + i for i in dummy.columns.values}\n",
    "        dummy = dummy.rename(columns=column_name_map)\n",
    "        df = pd.concat([df, dummy], axis=1)\n",
    "        df = df.drop(labels=[col],axis=1)\n",
    "        dum_cols += list(dummy.columns.values)\n",
    "    return df, dum_cols"
   ]
  },
  {
   "cell_type": "code",
   "execution_count": 3,
   "metadata": {},
   "outputs": [],
   "source": [
    "# for getting dummy fields based on dates\n",
    "def get_dummies_date(df, col, feats): \n",
    "    date_cols = []\n",
    "    for feat, field in feats:\n",
    "        df[col + '_' + feat] = field\n",
    "        dummy = df[col + '_' + feat].astype(str).str.get_dummies()\n",
    "        column_name_map = {i: col + '_' + feat + i for i in dummy.columns.values}\n",
    "        dummy = dummy.rename(columns=column_name_map)\n",
    "        df = pd.concat([df, dummy], axis=1)\n",
    "        date_cols += list(dummy.columns.values)\n",
    "    return df, date_cols"
   ]
  },
  {
   "cell_type": "code",
   "execution_count": 4,
   "metadata": {},
   "outputs": [],
   "source": [
    "# engineer dates\n",
    "def enrich_date(df, col):\n",
    "    df[col] = pd.to_datetime(df[col])\n",
    "    df[col] = df[col].fillna(df[col].min() + (df[col] - df[col].min()).mean())\n",
    "    df, date_cols = get_dummies_date(df, col, [\n",
    "        ('dayofweek', df[col].dt.dayofweek), ('month', df[col].dt.month)])\n",
    "    return df, date_cols"
   ]
  },
  {
   "cell_type": "code",
   "execution_count": 5,
   "metadata": {},
   "outputs": [],
   "source": [
    "# loss function\n",
    "def rmse(y, y_pred):\n",
    "    return np.sqrt(np.mean((y_pred - y)**2))\n",
    "\n",
    "rmse_scorer = make_scorer(rmse, greater_is_better=False)\n",
    "from sklearn.model_selection import cross_val_score, GridSearchCV\n"
   ]
  },
  {
   "cell_type": "code",
   "execution_count": 6,
   "metadata": {},
   "outputs": [],
   "source": [
    "\n",
    "def get_meaningful_cols(df, dum_cols):\n",
    "    return df[dum_cols].columns[(df[dum_cols] == 1).any(axis=0)]"
   ]
  },
  {
   "cell_type": "code",
   "execution_count": 7,
   "metadata": {},
   "outputs": [],
   "source": [
    "def to_datetime(dfs, cols):\n",
    "    for df in dfs:\n",
    "        for c in cols:\n",
    "            df[c] = pd.to_datetime(df[c])\n",
    "    return dfs"
   ]
  },
  {
   "cell_type": "code",
   "execution_count": 8,
   "metadata": {},
   "outputs": [],
   "source": [
    "def normalize_price(dfs, df_all, price_th):\n",
    "    price_th = 200000\n",
    "    px_mean = df_all.price[df_all.price <= price_th].mean()\n",
    "    for df in dfs:\n",
    "        df.price = np.where(df.price > price_th, px_mean, df.price)\n",
    "    mm = MinMaxScaler()\n",
    "    df_all[['price']] = mm.fit_transform(df_all[['price']])\n",
    "    for df in dfs:\n",
    "        df[['price']] = mm.transform(df[['price']])\n",
    "    return dfs"
   ]
  },
  {
   "cell_type": "code",
   "execution_count": 9,
   "metadata": {},
   "outputs": [],
   "source": [
    "def normalize_is_free(dfs):\n",
    "    for df in dfs:\n",
    "        df['is_free'] = np.where(df.is_free == True, 1, 0)\n",
    "    return dfs"
   ]
  },
  {
   "cell_type": "code",
   "execution_count": 10,
   "metadata": {},
   "outputs": [],
   "source": [
    "def engineer_reviews(dfs, df_all): \n",
    "    mean_pos_rev = df_all['total_positive_reviews'].mean()\n",
    "    mean_neg_rev = df_all['total_negative_reviews'].mean()\n",
    "    for df in dfs:\n",
    "        df['total_positive_reviews'] = df['total_positive_reviews'].fillna(mean_pos_rev)\n",
    "        df['total_negative_reviews'] = df['total_negative_reviews'].fillna(mean_neg_rev)\n",
    "    mm_cols = ['total_positive_reviews', 'total_negative_reviews']\n",
    "    mm = MinMaxScaler()\n",
    "    df_all[mm_cols] = mm.fit_transform(df_all[mm_cols])\n",
    "    for df in dfs:\n",
    "        df[mm_cols] = mm.transform(df[mm_cols])\n",
    "    return dfs"
   ]
  },
  {
   "cell_type": "code",
   "execution_count": 11,
   "metadata": {},
   "outputs": [],
   "source": [
    "# get dummy variables expanded by ['genres', 'categories', 'tags'], and get the fields that are overlapped between train and test\n",
    "def get_dummy_category(df_all, dftr, dfts): \n",
    "    df_all, dum_cols = get_dummies(df_all, ['genres', 'categories', 'tags'])\n",
    "    meaningful_dums = set(get_meaningful_cols(df_all[df_all.is_test == 1], dum_cols)).intersection(\n",
    "        get_meaningful_cols(df_all[df_all.is_test == 0], dum_cols))\n",
    "    no_use_dums = set(dum_cols) - meaningful_dums\n",
    "    df_all = df_all.drop(columns=no_use_dums)\n",
    "    dftr, dum_cols = get_dummies(dftr, ['genres', 'categories', 'tags'])\n",
    "    no_use_dums = set(dum_cols) - meaningful_dums\n",
    "    dftr = dftr.drop(columns=no_use_dums)\n",
    "    dfts, dum_cols = get_dummies(dfts, ['genres', 'categories', 'tags'])\n",
    "    no_use_dums = set(dum_cols) - meaningful_dums\n",
    "    dfts = dfts.drop(columns=no_use_dums)\n",
    "    return df_all, dftr, dfts, meaningful_dums"
   ]
  },
  {
   "cell_type": "code",
   "execution_count": 12,
   "metadata": {},
   "outputs": [],
   "source": [
    "def get_date_dums(df_all, dftr, dfts): \n",
    "    meaningful_dates = []\n",
    "    date_fields = ['purchase_date']\n",
    "    for date_field in date_fields:\n",
    "        df_all, date_dums = enrich_date(df_all, date_field)\n",
    "        meaningful_date_set = set(get_meaningful_cols(df_all[df_all.is_test == 1], date_dums)\n",
    "                              ).intersection(get_meaningful_cols(df_all[df_all.is_test == 0], date_dums))\n",
    "        meaningful_dates += list(meaningful_date_set)\n",
    "        no_use_dums = set(date_dums) - meaningful_date_set\n",
    "        df_all = df_all.drop(columns=no_use_dums)\n",
    "        dftr, date_dums = enrich_date(dftr, date_field)\n",
    "        no_use_dums = set(date_dums) - meaningful_date_set\n",
    "        dftr = dftr.drop(columns=no_use_dums)\n",
    "        dfts, date_dums = enrich_date(dfts, date_field)\n",
    "        no_use_dums = set(date_dums) - meaningful_date_set\n",
    "        dfts = dfts.drop(columns=no_use_dums)\n",
    "    return df_all, dftr, dfts, meaningful_dates"
   ]
  },
  {
   "cell_type": "code",
   "execution_count": 13,
   "metadata": {},
   "outputs": [],
   "source": [
    "# loading data and engieer the features\n",
    "def load_data():\n",
    "    dftr = pd.read_csv('train.csv')\n",
    "    dftr['is_test'] = 0\n",
    "    # only filter in the valid training sample, i.e. playtime > 0\n",
    "    #dftr = dftr[dftr.playtime_forever > 0]\n",
    "    dfts = pd.read_csv('test.csv')\n",
    "    dfts['playtime_forever'] = 0\n",
    "    dfts['is_test'] = 1\n",
    "    df = pd.concat([dftr, dfts], axis=0, ignore_index=True, sort=False)\n",
    "\n",
    "    # convert date field from obj to date\n",
    "    df, dftr, dfts = to_datetime((df, dftr, dfts), ('purchase_date', 'release_date'))\n",
    "    # price normalize\n",
    "    price_th = 200000\n",
    "    df, dftr, dfts = normalize_price((df, dftr, dfts), df, price_th)\n",
    "    # free\n",
    "    df, dftr, dfts = normalize_is_free((df, dftr, dfts))\n",
    "    # reviews\n",
    "    df, dftr, dfts = engineer_reviews((df, dftr, dfts), df)\n",
    "    # dummy cols\n",
    "    df, dftr, dfts, category_dums = get_dummy_category(df, dftr, dfts)\n",
    "    # purchase_date\n",
    "    df, dftr, dfts, date_dums = get_date_dums(df, dftr, dfts)\n",
    "    return df, dftr, dfts, list(category_dums) + list(date_dums)"
   ]
  },
  {
   "cell_type": "code",
   "execution_count": 14,
   "metadata": {},
   "outputs": [],
   "source": [
    "def describe_data(df):\n",
    "    print('====================== shape ======================')\n",
    "    print(df.shape)\n",
    "    print('====================== schema ======================')\n",
    "    print(df.dtypes)\n"
   ]
  },
  {
   "cell_type": "markdown",
   "metadata": {},
   "source": [
    "# 2. Inspect Data"
   ]
  },
  {
   "cell_type": "code",
   "execution_count": 15,
   "metadata": {
    "scrolled": true
   },
   "outputs": [
    {
     "name": "stdout",
     "output_type": "stream",
     "text": [
      "(447, 296) (357, 296) (90, 296)\n",
      "====================== shape ======================\n",
      "(447, 296)\n",
      "====================== schema ======================\n",
      "id                                                int64\n",
      "playtime_forever                                float64\n",
      "is_free                                           int64\n",
      "price                                           float64\n",
      "purchase_date                            datetime64[ns]\n",
      "release_date                             datetime64[ns]\n",
      "total_positive_reviews                          float64\n",
      "total_negative_reviews                          float64\n",
      "is_test                                           int64\n",
      "genres_Action                                     int64\n",
      "genres_Adventure                                  int64\n",
      "genres_Casual                                     int64\n",
      "genres_Early Access                               int64\n",
      "genres_Free to Play                               int64\n",
      "genres_Gore                                       int64\n",
      "genres_Indie                                      int64\n",
      "genres_Massively Multiplayer                      int64\n",
      "genres_Nudity                                     int64\n",
      "genres_RPG                                        int64\n",
      "genres_Simulation                                 int64\n",
      "genres_Sports                                     int64\n",
      "genres_Strategy                                   int64\n",
      "genres_Violent                                    int64\n",
      "categories_Captions available                     int64\n",
      "categories_Co-op                                  int64\n",
      "categories_Commentary available                   int64\n",
      "categories_Cross-Platform Multiplayer             int64\n",
      "categories_Full controller support                int64\n",
      "categories_In-App Purchases                       int64\n",
      "categories_Includes Source SDK                    int64\n",
      "                                              ...      \n",
      "tags_Visual Novel                                 int64\n",
      "tags_Walking Simulator                            int64\n",
      "tags_War                                          int64\n",
      "tags_Warhammer 40K                                int64\n",
      "tags_Western                                      int64\n",
      "tags_World War I                                  int64\n",
      "tags_World War II                                 int64\n",
      "tags_Zombies                                      int64\n",
      "tags_eSports                                      int64\n",
      "purchase_date_dayofweek                           int64\n",
      "purchase_date_dayofweek0                          int64\n",
      "purchase_date_dayofweek1                          int64\n",
      "purchase_date_dayofweek2                          int64\n",
      "purchase_date_dayofweek3                          int64\n",
      "purchase_date_dayofweek4                          int64\n",
      "purchase_date_dayofweek5                          int64\n",
      "purchase_date_dayofweek6                          int64\n",
      "purchase_date_month                               int64\n",
      "purchase_date_month1                              int64\n",
      "purchase_date_month10                             int64\n",
      "purchase_date_month11                             int64\n",
      "purchase_date_month12                             int64\n",
      "purchase_date_month2                              int64\n",
      "purchase_date_month3                              int64\n",
      "purchase_date_month4                              int64\n",
      "purchase_date_month5                              int64\n",
      "purchase_date_month6                              int64\n",
      "purchase_date_month7                              int64\n",
      "purchase_date_month8                              int64\n",
      "purchase_date_month9                              int64\n",
      "Length: 296, dtype: object\n"
     ]
    }
   ],
   "source": [
    "df, dftr, dfts, dums = load_data()\n",
    "print(df.shape, dftr.shape, dfts.shape)\n",
    "describe_data(df)\n"
   ]
  },
  {
   "cell_type": "code",
   "execution_count": 16,
   "metadata": {
    "scrolled": true
   },
   "outputs": [
    {
     "data": {
      "text/plain": [
       "array([dtype('int64'), dtype('float64'), dtype('<M8[ns]')], dtype=object)"
      ]
     },
     "execution_count": 16,
     "metadata": {},
     "output_type": "execute_result"
    }
   ],
   "source": [
    "df.dtypes.unique()"
   ]
  },
  {
   "cell_type": "code",
   "execution_count": 17,
   "metadata": {},
   "outputs": [
    {
     "data": {
      "text/html": [
       "<div>\n",
       "<style scoped>\n",
       "    .dataframe tbody tr th:only-of-type {\n",
       "        vertical-align: middle;\n",
       "    }\n",
       "\n",
       "    .dataframe tbody tr th {\n",
       "        vertical-align: top;\n",
       "    }\n",
       "\n",
       "    .dataframe thead th {\n",
       "        text-align: right;\n",
       "    }\n",
       "</style>\n",
       "<table border=\"1\" class=\"dataframe\">\n",
       "  <thead>\n",
       "    <tr style=\"text-align: right;\">\n",
       "      <th></th>\n",
       "      <th>id</th>\n",
       "      <th>playtime_forever</th>\n",
       "      <th>is_free</th>\n",
       "      <th>price</th>\n",
       "      <th>purchase_date</th>\n",
       "      <th>release_date</th>\n",
       "      <th>total_positive_reviews</th>\n",
       "      <th>total_negative_reviews</th>\n",
       "      <th>is_test</th>\n",
       "      <th>genres_Action</th>\n",
       "      <th>...</th>\n",
       "      <th>purchase_date_month11</th>\n",
       "      <th>purchase_date_month12</th>\n",
       "      <th>purchase_date_month2</th>\n",
       "      <th>purchase_date_month3</th>\n",
       "      <th>purchase_date_month4</th>\n",
       "      <th>purchase_date_month5</th>\n",
       "      <th>purchase_date_month6</th>\n",
       "      <th>purchase_date_month7</th>\n",
       "      <th>purchase_date_month8</th>\n",
       "      <th>purchase_date_month9</th>\n",
       "    </tr>\n",
       "  </thead>\n",
       "  <tbody>\n",
       "  </tbody>\n",
       "</table>\n",
       "<p>0 rows × 296 columns</p>\n",
       "</div>"
      ],
      "text/plain": [
       "Empty DataFrame\n",
       "Columns: [id, playtime_forever, is_free, price, purchase_date, release_date, total_positive_reviews, total_negative_reviews, is_test, genres_Action, genres_Adventure, genres_Casual, genres_Early Access, genres_Free to Play, genres_Gore, genres_Indie, genres_Massively Multiplayer, genres_Nudity, genres_RPG, genres_Simulation, genres_Sports, genres_Strategy, genres_Violent, categories_Captions available, categories_Co-op, categories_Commentary available, categories_Cross-Platform Multiplayer, categories_Full controller support, categories_In-App Purchases, categories_Includes Source SDK, categories_Includes level editor, categories_Local Co-op, categories_Local Multi-Player, categories_MMO, categories_Multi-player, categories_Online Co-op, categories_Online Multi-Player, categories_Partial Controller Support, categories_Remote Play on Phone, categories_Remote Play on TV, categories_Remote Play on Tablet, categories_Shared/Split Screen, categories_Single-player, categories_Stats, categories_Steam Achievements, categories_Steam Cloud, categories_Steam Leaderboards, categories_Steam Trading Cards, categories_Steam Workshop, categories_SteamVR Collectibles, categories_VR Support, tags_1980s, tags_1990's, tags_2.5D, tags_2D, tags_3D Platformer, tags_3D Vision, tags_4 Player Local, tags_4X, tags_Action, tags_Action RPG, tags_Action-Adventure, tags_Adventure, tags_Aliens, tags_Alternate History, tags_America, tags_Anime, tags_Arcade, tags_Arena Shooter, tags_Assassin, tags_Atmospheric, tags_Base Building, tags_Based On A Novel, tags_Beat 'em up, tags_Beautiful, tags_Benchmark, tags_Blood, tags_Building, tags_Bullet Time, tags_CRPG, tags_Cartoony, tags_Casual, tags_Character Customization, tags_Choices Matter, tags_Cinematic, tags_City Builder, tags_Classic, tags_Co-op, tags_Colorful, tags_Comedy, tags_Competitive, tags_Controller, tags_Crafting, tags_Crime, tags_Crowdfunded, tags_Cult Classic, tags_Cute, tags_Cyberpunk, tags_Dark, tags_Dark Fantasy, ...]\n",
       "Index: []\n",
       "\n",
       "[0 rows x 296 columns]"
      ]
     },
     "execution_count": 17,
     "metadata": {},
     "output_type": "execute_result"
    }
   ],
   "source": [
    "dftr[dftr.isna().any(axis=1)]"
   ]
  },
  {
   "cell_type": "code",
   "execution_count": 18,
   "metadata": {},
   "outputs": [
    {
     "data": {
      "text/html": [
       "<div>\n",
       "<style scoped>\n",
       "    .dataframe tbody tr th:only-of-type {\n",
       "        vertical-align: middle;\n",
       "    }\n",
       "\n",
       "    .dataframe tbody tr th {\n",
       "        vertical-align: top;\n",
       "    }\n",
       "\n",
       "    .dataframe thead th {\n",
       "        text-align: right;\n",
       "    }\n",
       "</style>\n",
       "<table border=\"1\" class=\"dataframe\">\n",
       "  <thead>\n",
       "    <tr style=\"text-align: right;\">\n",
       "      <th></th>\n",
       "      <th>id</th>\n",
       "      <th>is_free</th>\n",
       "      <th>price</th>\n",
       "      <th>purchase_date</th>\n",
       "      <th>release_date</th>\n",
       "      <th>total_positive_reviews</th>\n",
       "      <th>total_negative_reviews</th>\n",
       "      <th>playtime_forever</th>\n",
       "      <th>is_test</th>\n",
       "      <th>genres_Action</th>\n",
       "      <th>...</th>\n",
       "      <th>purchase_date_month11</th>\n",
       "      <th>purchase_date_month12</th>\n",
       "      <th>purchase_date_month2</th>\n",
       "      <th>purchase_date_month3</th>\n",
       "      <th>purchase_date_month4</th>\n",
       "      <th>purchase_date_month5</th>\n",
       "      <th>purchase_date_month6</th>\n",
       "      <th>purchase_date_month7</th>\n",
       "      <th>purchase_date_month8</th>\n",
       "      <th>purchase_date_month9</th>\n",
       "    </tr>\n",
       "  </thead>\n",
       "  <tbody>\n",
       "  </tbody>\n",
       "</table>\n",
       "<p>0 rows × 296 columns</p>\n",
       "</div>"
      ],
      "text/plain": [
       "Empty DataFrame\n",
       "Columns: [id, is_free, price, purchase_date, release_date, total_positive_reviews, total_negative_reviews, playtime_forever, is_test, genres_Action, genres_Adventure, genres_Casual, genres_Early Access, genres_Free to Play, genres_Gore, genres_Indie, genres_Massively Multiplayer, genres_Nudity, genres_RPG, genres_Simulation, genres_Sports, genres_Strategy, genres_Violent, categories_Captions available, categories_Co-op, categories_Commentary available, categories_Cross-Platform Multiplayer, categories_Full controller support, categories_In-App Purchases, categories_Includes Source SDK, categories_Includes level editor, categories_Local Co-op, categories_Local Multi-Player, categories_MMO, categories_Multi-player, categories_Online Co-op, categories_Online Multi-Player, categories_Partial Controller Support, categories_Remote Play on Phone, categories_Remote Play on TV, categories_Remote Play on Tablet, categories_Shared/Split Screen, categories_Single-player, categories_Stats, categories_Steam Achievements, categories_Steam Cloud, categories_Steam Leaderboards, categories_Steam Trading Cards, categories_Steam Workshop, categories_SteamVR Collectibles, categories_VR Support, tags_1980s, tags_1990's, tags_2.5D, tags_2D, tags_3D Platformer, tags_3D Vision, tags_4 Player Local, tags_4X, tags_Action, tags_Action RPG, tags_Action-Adventure, tags_Adventure, tags_Aliens, tags_Alternate History, tags_America, tags_Anime, tags_Arcade, tags_Arena Shooter, tags_Assassin, tags_Atmospheric, tags_Base Building, tags_Based On A Novel, tags_Beat 'em up, tags_Beautiful, tags_Benchmark, tags_Blood, tags_Building, tags_Bullet Time, tags_CRPG, tags_Cartoony, tags_Casual, tags_Character Customization, tags_Choices Matter, tags_Cinematic, tags_City Builder, tags_Classic, tags_Co-op, tags_Colorful, tags_Comedy, tags_Competitive, tags_Controller, tags_Crafting, tags_Crime, tags_Crowdfunded, tags_Cult Classic, tags_Cute, tags_Cyberpunk, tags_Dark, tags_Dark Fantasy, ...]\n",
       "Index: []\n",
       "\n",
       "[0 rows x 296 columns]"
      ]
     },
     "execution_count": 18,
     "metadata": {},
     "output_type": "execute_result"
    }
   ],
   "source": [
    "dfts[dfts.isna().any(axis=1)]"
   ]
  },
  {
   "cell_type": "code",
   "execution_count": 19,
   "metadata": {
    "scrolled": true
   },
   "outputs": [
    {
     "data": {
      "text/html": [
       "<div>\n",
       "<style scoped>\n",
       "    .dataframe tbody tr th:only-of-type {\n",
       "        vertical-align: middle;\n",
       "    }\n",
       "\n",
       "    .dataframe tbody tr th {\n",
       "        vertical-align: top;\n",
       "    }\n",
       "\n",
       "    .dataframe thead th {\n",
       "        text-align: right;\n",
       "    }\n",
       "</style>\n",
       "<table border=\"1\" class=\"dataframe\">\n",
       "  <thead>\n",
       "    <tr style=\"text-align: right;\">\n",
       "      <th></th>\n",
       "      <th>col</th>\n",
       "      <th>corr</th>\n",
       "    </tr>\n",
       "  </thead>\n",
       "  <tbody>\n",
       "    <tr>\n",
       "      <th>1</th>\n",
       "      <td>playtime_forever</td>\n",
       "      <td>1.000000</td>\n",
       "    </tr>\n",
       "    <tr>\n",
       "      <th>4</th>\n",
       "      <td>total_positive_reviews</td>\n",
       "      <td>0.394506</td>\n",
       "    </tr>\n",
       "    <tr>\n",
       "      <th>5</th>\n",
       "      <td>total_negative_reviews</td>\n",
       "      <td>0.392950</td>\n",
       "    </tr>\n",
       "    <tr>\n",
       "      <th>85</th>\n",
       "      <td>tags_Co-op</td>\n",
       "      <td>0.223363</td>\n",
       "    </tr>\n",
       "    <tr>\n",
       "      <th>90</th>\n",
       "      <td>tags_Crafting</td>\n",
       "      <td>0.213636</td>\n",
       "    </tr>\n",
       "    <tr>\n",
       "      <th>202</th>\n",
       "      <td>tags_PvP</td>\n",
       "      <td>0.207131</td>\n",
       "    </tr>\n",
       "    <tr>\n",
       "      <th>183</th>\n",
       "      <td>tags_Online Co-Op</td>\n",
       "      <td>0.192023</td>\n",
       "    </tr>\n",
       "    <tr>\n",
       "      <th>22</th>\n",
       "      <td>categories_Co-op</td>\n",
       "      <td>0.185373</td>\n",
       "    </tr>\n",
       "    <tr>\n",
       "      <th>257</th>\n",
       "      <td>tags_Turn-Based Combat</td>\n",
       "      <td>0.181008</td>\n",
       "    </tr>\n",
       "    <tr>\n",
       "      <th>280</th>\n",
       "      <td>purchase_date_dayofweek6</td>\n",
       "      <td>0.174142</td>\n",
       "    </tr>\n",
       "    <tr>\n",
       "      <th>171</th>\n",
       "      <td>tags_Multiplayer</td>\n",
       "      <td>0.173836</td>\n",
       "    </tr>\n",
       "    <tr>\n",
       "      <th>244</th>\n",
       "      <td>tags_Survival</td>\n",
       "      <td>0.172961</td>\n",
       "    </tr>\n",
       "    <tr>\n",
       "      <th>217</th>\n",
       "      <td>tags_Rogue-like</td>\n",
       "      <td>0.170529</td>\n",
       "    </tr>\n",
       "    <tr>\n",
       "      <th>32</th>\n",
       "      <td>categories_Multi-player</td>\n",
       "      <td>0.167955</td>\n",
       "    </tr>\n",
       "    <tr>\n",
       "      <th>46</th>\n",
       "      <td>categories_Steam Workshop</td>\n",
       "      <td>0.165028</td>\n",
       "    </tr>\n",
       "    <tr>\n",
       "      <th>184</th>\n",
       "      <td>tags_Open World</td>\n",
       "      <td>0.154852</td>\n",
       "    </tr>\n",
       "    <tr>\n",
       "      <th>285</th>\n",
       "      <td>purchase_date_month12</td>\n",
       "      <td>0.149209</td>\n",
       "    </tr>\n",
       "    <tr>\n",
       "      <th>14</th>\n",
       "      <td>genres_Massively Multiplayer</td>\n",
       "      <td>0.144402</td>\n",
       "    </tr>\n",
       "    <tr>\n",
       "      <th>41</th>\n",
       "      <td>categories_Stats</td>\n",
       "      <td>0.144343</td>\n",
       "    </tr>\n",
       "    <tr>\n",
       "      <th>34</th>\n",
       "      <td>categories_Online Multi-Player</td>\n",
       "      <td>0.143852</td>\n",
       "    </tr>\n",
       "    <tr>\n",
       "      <th>259</th>\n",
       "      <td>tags_Turn-Based Tactics</td>\n",
       "      <td>0.143848</td>\n",
       "    </tr>\n",
       "    <tr>\n",
       "      <th>33</th>\n",
       "      <td>categories_Online Co-op</td>\n",
       "      <td>0.141693</td>\n",
       "    </tr>\n",
       "    <tr>\n",
       "      <th>103</th>\n",
       "      <td>tags_Difficult</td>\n",
       "      <td>0.140073</td>\n",
       "    </tr>\n",
       "    <tr>\n",
       "      <th>203</th>\n",
       "      <td>tags_RPG</td>\n",
       "      <td>0.138661</td>\n",
       "    </tr>\n",
       "    <tr>\n",
       "      <th>220</th>\n",
       "      <td>tags_Sandbox</td>\n",
       "      <td>0.138609</td>\n",
       "    </tr>\n",
       "    <tr>\n",
       "      <th>187</th>\n",
       "      <td>tags_Party-Based RPG</td>\n",
       "      <td>0.133609</td>\n",
       "    </tr>\n",
       "    <tr>\n",
       "      <th>247</th>\n",
       "      <td>tags_Team-Based</td>\n",
       "      <td>0.132417</td>\n",
       "    </tr>\n",
       "    <tr>\n",
       "      <th>249</th>\n",
       "      <td>tags_Third-Person Shooter</td>\n",
       "      <td>0.130735</td>\n",
       "    </tr>\n",
       "    <tr>\n",
       "      <th>3</th>\n",
       "      <td>price</td>\n",
       "      <td>0.125746</td>\n",
       "    </tr>\n",
       "    <tr>\n",
       "      <th>112</th>\n",
       "      <td>tags_Early Access</td>\n",
       "      <td>0.120275</td>\n",
       "    </tr>\n",
       "    <tr>\n",
       "      <th>212</th>\n",
       "      <td>tags_Replay Value</td>\n",
       "      <td>0.116322</td>\n",
       "    </tr>\n",
       "    <tr>\n",
       "      <th>30</th>\n",
       "      <td>categories_Local Multi-Player</td>\n",
       "      <td>0.116319</td>\n",
       "    </tr>\n",
       "    <tr>\n",
       "      <th>77</th>\n",
       "      <td>tags_CRPG</td>\n",
       "      <td>0.113360</td>\n",
       "    </tr>\n",
       "    <tr>\n",
       "      <th>25</th>\n",
       "      <td>categories_Full controller support</td>\n",
       "      <td>0.109827</td>\n",
       "    </tr>\n",
       "    <tr>\n",
       "      <th>88</th>\n",
       "      <td>tags_Competitive</td>\n",
       "      <td>0.108193</td>\n",
       "    </tr>\n",
       "    <tr>\n",
       "      <th>37</th>\n",
       "      <td>categories_Remote Play on TV</td>\n",
       "      <td>0.106642</td>\n",
       "    </tr>\n",
       "    <tr>\n",
       "      <th>170</th>\n",
       "      <td>tags_Mouse only</td>\n",
       "      <td>0.104211</td>\n",
       "    </tr>\n",
       "    <tr>\n",
       "      <th>292</th>\n",
       "      <td>purchase_date_month8</td>\n",
       "      <td>0.103262</td>\n",
       "    </tr>\n",
       "    <tr>\n",
       "      <th>248</th>\n",
       "      <td>tags_Third Person</td>\n",
       "      <td>0.102080</td>\n",
       "    </tr>\n",
       "    <tr>\n",
       "      <th>16</th>\n",
       "      <td>genres_RPG</td>\n",
       "      <td>0.097039</td>\n",
       "    </tr>\n",
       "  </tbody>\n",
       "</table>\n",
       "</div>"
      ],
      "text/plain": [
       "                                    col      corr\n",
       "1                      playtime_forever  1.000000\n",
       "4                total_positive_reviews  0.394506\n",
       "5                total_negative_reviews  0.392950\n",
       "85                           tags_Co-op  0.223363\n",
       "90                        tags_Crafting  0.213636\n",
       "202                            tags_PvP  0.207131\n",
       "183                   tags_Online Co-Op  0.192023\n",
       "22                     categories_Co-op  0.185373\n",
       "257              tags_Turn-Based Combat  0.181008\n",
       "280            purchase_date_dayofweek6  0.174142\n",
       "171                    tags_Multiplayer  0.173836\n",
       "244                       tags_Survival  0.172961\n",
       "217                     tags_Rogue-like  0.170529\n",
       "32              categories_Multi-player  0.167955\n",
       "46            categories_Steam Workshop  0.165028\n",
       "184                     tags_Open World  0.154852\n",
       "285               purchase_date_month12  0.149209\n",
       "14         genres_Massively Multiplayer  0.144402\n",
       "41                     categories_Stats  0.144343\n",
       "34       categories_Online Multi-Player  0.143852\n",
       "259             tags_Turn-Based Tactics  0.143848\n",
       "33              categories_Online Co-op  0.141693\n",
       "103                      tags_Difficult  0.140073\n",
       "203                            tags_RPG  0.138661\n",
       "220                        tags_Sandbox  0.138609\n",
       "187                tags_Party-Based RPG  0.133609\n",
       "247                     tags_Team-Based  0.132417\n",
       "249           tags_Third-Person Shooter  0.130735\n",
       "3                                 price  0.125746\n",
       "112                   tags_Early Access  0.120275\n",
       "212                   tags_Replay Value  0.116322\n",
       "30        categories_Local Multi-Player  0.116319\n",
       "77                            tags_CRPG  0.113360\n",
       "25   categories_Full controller support  0.109827\n",
       "88                     tags_Competitive  0.108193\n",
       "37         categories_Remote Play on TV  0.106642\n",
       "170                     tags_Mouse only  0.104211\n",
       "292                purchase_date_month8  0.103262\n",
       "248                   tags_Third Person  0.102080\n",
       "16                           genres_RPG  0.097039"
      ]
     },
     "execution_count": 19,
     "metadata": {},
     "output_type": "execute_result"
    }
   ],
   "source": [
    "key = []\n",
    "value = []\n",
    "for c in df.columns.values:\n",
    "    if df[c].dtypes == np.dtype('int64') or df[c].dtypes == np.dtype('float64'):\n",
    "        key.append(c)\n",
    "        value.append(dftr[c].corr(dftr.playtime_forever))\n",
    "corr = pd.DataFrame.from_dict({'col': key, 'corr': value})\n",
    "corr.sort_values(['corr'], ascending=False)[0:40]\n"
   ]
  },
  {
   "cell_type": "markdown",
   "metadata": {},
   "source": [
    "# 3. Separating label from features"
   ]
  },
  {
   "cell_type": "code",
   "execution_count": 20,
   "metadata": {
    "scrolled": true
   },
   "outputs": [
    {
     "name": "stdout",
     "output_type": "stream",
     "text": [
      "(90, 100) (357, 100) (357,)\n"
     ]
    }
   ],
   "source": [
    "key_cols = corr.sort_values(['corr'], ascending=False)['col'][1:101].values\n",
    "\n",
    "dftr = dftr.sample(frac=1).reset_index(drop=True)\n",
    "\n",
    "dfx = dftr[key_cols]\n",
    "dfy = dftr['playtime_forever']\n",
    "nfx = dfts[key_cols]\n",
    "\n",
    "print(nfx.shape, dfx.shape, dfy.shape)"
   ]
  },
  {
   "cell_type": "markdown",
   "metadata": {},
   "source": [
    "# 4. Ranom Forest Training"
   ]
  },
  {
   "cell_type": "code",
   "execution_count": 21,
   "metadata": {},
   "outputs": [
    {
     "data": {
      "text/plain": [
       "((284, 100), (73, 100), (284,), (73,))"
      ]
     },
     "execution_count": 21,
     "metadata": {},
     "output_type": "execute_result"
    }
   ],
   "source": [
    "train = dfx.shape[0] // 5 * 4\n",
    "tr_X, ts_X, tr_y, ts_y = dfx[0:train], dfx[train:], dfy[0:train], dfy[train:]\n",
    "tr_X.shape, ts_X.shape, tr_y.shape, ts_y.shape"
   ]
  },
  {
   "cell_type": "code",
   "execution_count": 22,
   "metadata": {},
   "outputs": [
    {
     "data": {
      "text/plain": [
       "6.698601852636029"
      ]
     },
     "execution_count": 22,
     "metadata": {},
     "output_type": "execute_result"
    }
   ],
   "source": [
    "#est = AdaBoostRegressor(random_state=0, n_estimators=1000, learning_rate=0.001, loss='linear')\n",
    "est = RandomForestRegressor(max_depth=200, random_state=0,\n",
    "    n_estimators=10000, n_jobs=4)\n",
    "\n",
    "est.fit(tr_X, tr_y)\n",
    "y_pred = est.predict(ts_X)\n",
    "rmse(y_pred, ts_y)"
   ]
  },
  {
   "cell_type": "markdown",
   "metadata": {},
   "source": [
    "# 5. cross validation"
   ]
  },
  {
   "cell_type": "code",
   "execution_count": null,
   "metadata": {},
   "outputs": [],
   "source": [
    "\n",
    "est = RandomForestRegressor(max_depth=200, random_state=0,\n",
    "    n_estimators=10000, n_jobs=4)\n",
    "scores = cross_val_score(est, dfx, dfy, cv=5, scoring=rmse_scorer)\n",
    "a_scores = np.array(scores)\n",
    "print(a_scores)\n",
    "print(np.round(np.mean(a_scores), 2), np.round(np.std(a_scores), 2))\n",
    "\n"
   ]
  },
  {
   "cell_type": "markdown",
   "metadata": {},
   "source": [
    "# 6. predict"
   ]
  },
  {
   "cell_type": "code",
   "execution_count": null,
   "metadata": {},
   "outputs": [],
   "source": [
    "est = RandomForestRegressor(max_depth=200, random_state=0,\n",
    "    n_estimators=10000, n_jobs=4)\n",
    "est.fit(dfx, dfy)\n",
    "nfy = est.predict(nfx)\n",
    "dfts['playtime_forever'] = nfy"
   ]
  },
  {
   "cell_type": "code",
   "execution_count": null,
   "metadata": {
    "scrolled": false
   },
   "outputs": [],
   "source": [
    "nfy_pred = dfts[['id', 'playtime_forever']]\n",
    "nfy_pred.describe()\n"
   ]
  },
  {
   "cell_type": "code",
   "execution_count": null,
   "metadata": {},
   "outputs": [],
   "source": [
    "nfy_pred"
   ]
  },
  {
   "cell_type": "markdown",
   "metadata": {},
   "source": [
    "# 7. Verify and save"
   ]
  },
  {
   "cell_type": "code",
   "execution_count": null,
   "metadata": {
    "scrolled": true
   },
   "outputs": [],
   "source": [
    "sns.distplot(nfy_pred['playtime_forever'])\n",
    "sns.distplot(dftr['playtime_forever'])"
   ]
  },
  {
   "cell_type": "code",
   "execution_count": null,
   "metadata": {},
   "outputs": [],
   "source": [
    "nfy_pred.to_csv('test.csv', index=False)"
   ]
  },
  {
   "cell_type": "code",
   "execution_count": null,
   "metadata": {},
   "outputs": [],
   "source": []
  },
  {
   "cell_type": "code",
   "execution_count": null,
   "metadata": {},
   "outputs": [],
   "source": []
  },
  {
   "cell_type": "code",
   "execution_count": null,
   "metadata": {},
   "outputs": [],
   "source": []
  },
  {
   "cell_type": "code",
   "execution_count": null,
   "metadata": {},
   "outputs": [],
   "source": []
  }
 ],
 "metadata": {
  "kernelspec": {
   "display_name": "Python 3",
   "language": "python",
   "name": "python3"
  },
  "language_info": {
   "codemirror_mode": {
    "name": "ipython",
    "version": 3
   },
   "file_extension": ".py",
   "mimetype": "text/x-python",
   "name": "python",
   "nbconvert_exporter": "python",
   "pygments_lexer": "ipython3",
   "version": "3.7.3"
  }
 },
 "nbformat": 4,
 "nbformat_minor": 2
}
